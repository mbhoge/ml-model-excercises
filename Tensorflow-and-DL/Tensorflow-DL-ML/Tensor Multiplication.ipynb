{
 "cells": [
  {
   "cell_type": "code",
   "execution_count": 2,
   "id": "311355e8",
   "metadata": {},
   "outputs": [
    {
     "name": "stdout",
     "output_type": "stream",
     "text": [
      "2.10.0\n"
     ]
    }
   ],
   "source": [
    "import tensorflow as tf\n",
    "print(tf.__version__)"
   ]
  },
  {
   "cell_type": "markdown",
   "id": "f83e47a5",
   "metadata": {},
   "source": [
    "# Define the constant A Tensor with the given Matrix"
   ]
  },
  {
   "cell_type": "code",
   "execution_count": 36,
   "id": "9dc2d612",
   "metadata": {},
   "outputs": [],
   "source": [
    "#Create tensors using tf.constant()\n",
    "A = tf.constant([[[275,879,231,495,367],\n",
    "                      [959,333,757,300,456],\n",
    "                      [234,907,806,867,375]]], shape=[3, 5])"
   ]
  },
  {
   "cell_type": "code",
   "execution_count": 37,
   "id": "16345f1e",
   "metadata": {},
   "outputs": [
    {
     "data": {
      "text/plain": [
       "<tf.Tensor: shape=(3, 5), dtype=int32, numpy=\n",
       "array([[275, 879, 231, 495, 367],\n",
       "       [959, 333, 757, 300, 456],\n",
       "       [234, 907, 806, 867, 375]])>"
      ]
     },
     "execution_count": 37,
     "metadata": {},
     "output_type": "execute_result"
    }
   ],
   "source": [
    "A"
   ]
  },
  {
   "cell_type": "code",
   "execution_count": 38,
   "id": "b08393a4",
   "metadata": {},
   "outputs": [
    {
     "data": {
      "text/plain": [
       "TensorShape([3, 5])"
      ]
     },
     "execution_count": 38,
     "metadata": {},
     "output_type": "execute_result"
    }
   ],
   "source": [
    "A.shape"
   ]
  },
  {
   "cell_type": "markdown",
   "id": "75f66463",
   "metadata": {},
   "source": [
    "# Define the constant B Tensor with the given Matrix"
   ]
  },
  {
   "cell_type": "code",
   "execution_count": 39,
   "id": "334f15dc",
   "metadata": {},
   "outputs": [],
   "source": [
    "B = tf.constant([[[58,23,45,34],\n",
    "                  [45,45,67,98],\n",
    "                  [56,67,73,60],\n",
    "                  [87,87,94,46],\n",
    "                  [59,97,67,71]\n",
    "                 ]], shape=[5, 4])"
   ]
  },
  {
   "cell_type": "code",
   "execution_count": 33,
   "id": "34bbe44a",
   "metadata": {},
   "outputs": [
    {
     "data": {
      "text/plain": [
       "<tf.Tensor: shape=(5, 4), dtype=int32, numpy=\n",
       "array([[58, 23, 45, 34],\n",
       "       [45, 45, 67, 98],\n",
       "       [56, 67, 73, 60],\n",
       "       [87, 87, 94, 46],\n",
       "       [59, 97, 67, 71]])>"
      ]
     },
     "execution_count": 33,
     "metadata": {},
     "output_type": "execute_result"
    }
   ],
   "source": [
    "B"
   ]
  },
  {
   "cell_type": "code",
   "execution_count": 29,
   "id": "ac5c9140",
   "metadata": {},
   "outputs": [
    {
     "data": {
      "text/plain": [
       "TensorShape([5, 4])"
      ]
     },
     "execution_count": 29,
     "metadata": {},
     "output_type": "execute_result"
    }
   ],
   "source": [
    "B.shape"
   ]
  },
  {
   "cell_type": "markdown",
   "id": "e57ac7e9",
   "metadata": {},
   "source": [
    "# Multiply the tensors A & B"
   ]
  },
  {
   "cell_type": "code",
   "execution_count": 47,
   "id": "5afa67d1",
   "metadata": {},
   "outputs": [],
   "source": [
    "C = A @ B"
   ]
  },
  {
   "cell_type": "code",
   "execution_count": 48,
   "id": "5da2014a",
   "metadata": {},
   "outputs": [
    {
     "data": {
      "text/plain": [
       "<tf.Tensor: shape=(3, 4), dtype=int32, numpy=\n",
       "array([[133159, 140021, 159250, 158179],\n",
       "       [166003, 158093, 179479, 156836],\n",
       "       [197077, 212003, 236760, 211709]])>"
      ]
     },
     "execution_count": 48,
     "metadata": {},
     "output_type": "execute_result"
    }
   ],
   "source": [
    "C"
   ]
  },
  {
   "cell_type": "markdown",
   "id": "6c5945a6",
   "metadata": {},
   "source": [
    "# We can't multiply tensors B @ A as the tensor B := TensorShape([5, 4]) is incompatiable for multiplication operation with tensor A := TensorShape([3, 5]). The multiplication is possible only when the number of columns of Tensor B is equal to the number of rows of Tensor A. "
   ]
  },
  {
   "cell_type": "code",
   "execution_count": null,
   "id": "b8bbe02e",
   "metadata": {},
   "outputs": [],
   "source": []
  }
 ],
 "metadata": {
  "kernelspec": {
   "display_name": "Python 3 (ipykernel)",
   "language": "python",
   "name": "python3"
  },
  "language_info": {
   "codemirror_mode": {
    "name": "ipython",
    "version": 3
   },
   "file_extension": ".py",
   "mimetype": "text/x-python",
   "name": "python",
   "nbconvert_exporter": "python",
   "pygments_lexer": "ipython3",
   "version": "3.9.12"
  }
 },
 "nbformat": 4,
 "nbformat_minor": 5
}
