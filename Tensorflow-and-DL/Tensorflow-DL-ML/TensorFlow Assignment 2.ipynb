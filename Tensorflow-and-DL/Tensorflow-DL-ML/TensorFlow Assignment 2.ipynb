{
 "cells": [
  {
   "cell_type": "code",
   "execution_count": 114,
   "id": "b568c162",
   "metadata": {},
   "outputs": [
    {
     "name": "stdout",
     "output_type": "stream",
     "text": [
      "2.10.0\n"
     ]
    }
   ],
   "source": [
    "# Import Tensorflow\n",
    "\n",
    "import tensorflow as tf\n",
    "print(tf.__version__)"
   ]
  },
  {
   "cell_type": "code",
   "execution_count": 116,
   "id": "6bd64a88",
   "metadata": {},
   "outputs": [],
   "source": [
    "tf.compat.v1.disable_eager_execution()"
   ]
  },
  {
   "cell_type": "markdown",
   "id": "fa37e2e3",
   "metadata": {},
   "source": [
    "# Write a TensorFlow (TF1.x) program to implement the following mathematical function : \n",
    "\n",
    "# Z= x3+y3+20x2y+30y2x+10"
   ]
  },
  {
   "cell_type": "code",
   "execution_count": 122,
   "id": "0149ddea",
   "metadata": {},
   "outputs": [],
   "source": [
    "x = tf.compat.v1.placeholder(tf.int32)\n",
    "y = tf.compat.v1.placeholder(tf.int32)"
   ]
  },
  {
   "cell_type": "code",
   "execution_count": 128,
   "id": "bc964b19",
   "metadata": {},
   "outputs": [
    {
     "name": "stdout",
     "output_type": "stream",
     "text": [
      "169010\n",
      "1208841\n",
      "1981637065\n"
     ]
    }
   ],
   "source": [
    "with tf.compat.v1.Session() as sess:\n",
    "    a = tf.constant(20)\n",
    "    b = tf.constant(30)\n",
    "    c = tf.constant(10)\n",
    "    Z = x*x*x+y*y*y+a*x*x*y+b*y*y*x+c\n",
    "    # X= 10 , y=20\n",
    "    print(sess.run(Z, feed_dict={x: 10, y: 20}))\n",
    "    # X= 23 , y=34\n",
    "    print(sess.run(Z, feed_dict={x: 23, y: 34}))\n",
    "    # X= 252 , y=423\n",
    "    print(sess.run(Z, feed_dict={x: 252, y: 423}))"
   ]
  },
  {
   "cell_type": "code",
   "execution_count": null,
   "id": "25f4ed5f",
   "metadata": {},
   "outputs": [],
   "source": []
  }
 ],
 "metadata": {
  "kernelspec": {
   "display_name": "Python 3 (ipykernel)",
   "language": "python",
   "name": "python3"
  },
  "language_info": {
   "codemirror_mode": {
    "name": "ipython",
    "version": 3
   },
   "file_extension": ".py",
   "mimetype": "text/x-python",
   "name": "python",
   "nbconvert_exporter": "python",
   "pygments_lexer": "ipython3",
   "version": "3.9.12"
  }
 },
 "nbformat": 4,
 "nbformat_minor": 5
}
