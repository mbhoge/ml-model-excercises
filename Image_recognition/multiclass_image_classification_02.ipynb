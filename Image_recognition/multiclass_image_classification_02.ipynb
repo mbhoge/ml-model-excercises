{
 "cells": [
  {
   "cell_type": "code",
   "execution_count": 1,
   "id": "1b187543",
   "metadata": {},
   "outputs": [],
   "source": [
    "import tensorflow as tf\n",
    "from tensorflow.keras.preprocessing.image import ImageDataGenerator\n",
    "from tensorflow.keras.models import Sequential\n",
    "from tensorflow.keras.layers import Conv2D, MaxPooling2D, Flatten, Dense"
   ]
  },
  {
   "cell_type": "code",
   "execution_count": 2,
   "id": "0432dd50",
   "metadata": {},
   "outputs": [],
   "source": [
    "# set the input shape and number of classes\n",
    "img_width, img_height = 224, 224\n",
    "num_classes = 4"
   ]
  },
  {
   "cell_type": "code",
   "execution_count": 3,
   "id": "00f9595b",
   "metadata": {},
   "outputs": [],
   "source": [
    "# create an image data generator with data augmentation for training\n",
    "train_datagen = ImageDataGenerator(\n",
    "    rescale=1./255,\n",
    "    shear_range=0.2,\n",
    "    zoom_range=0.2,\n",
    "    horizontal_flip=True)"
   ]
  },
  {
   "cell_type": "code",
   "execution_count": 4,
   "id": "bdecd1a0",
   "metadata": {},
   "outputs": [],
   "source": [
    "# create an image data generator for testing/validation\n",
    "test_datagen = ImageDataGenerator(rescale=1./255)"
   ]
  },
  {
   "cell_type": "code",
   "execution_count": 5,
   "id": "cc72c5b7",
   "metadata": {},
   "outputs": [
    {
     "name": "stdout",
     "output_type": "stream",
     "text": [
      "Found 12000 images belonging to 4 classes.\n",
      "Found 400 images belonging to 4 classes.\n"
     ]
    }
   ],
   "source": [
    "# load the training and testing datasets\n",
    "train_set = train_datagen.flow_from_directory(\n",
    "    'Data_4class\\\\Data_4class\\\\train',\n",
    "    target_size=(img_width, img_height),\n",
    "    batch_size=32,\n",
    "    class_mode='categorical')\n",
    "\n",
    "test_set = test_datagen.flow_from_directory(\n",
    "    'Data_4class\\\\Data_4class\\\\test',\n",
    "    target_size=(img_width, img_height),\n",
    "    batch_size=32,\n",
    "    class_mode='categorical')"
   ]
  },
  {
   "cell_type": "code",
   "execution_count": 6,
   "id": "bd81dcd4",
   "metadata": {},
   "outputs": [],
   "source": [
    "# create a sequential model\n",
    "model = Sequential()"
   ]
  },
  {
   "cell_type": "code",
   "execution_count": 7,
   "id": "002e92c1",
   "metadata": {},
   "outputs": [],
   "source": [
    "# add convolutional layers with pooling\n",
    "model.add(Conv2D(32, (3, 3), activation='relu', input_shape=(img_width, img_height, 3)))\n",
    "model.add(MaxPooling2D(pool_size=(2, 2)))\n",
    "\n",
    "model.add(Conv2D(64, (3, 3), activation='relu'))\n",
    "model.add(MaxPooling2D(pool_size=(2, 2)))\n",
    "\n",
    "# flatten the output and add a dense layer\n",
    "model.add(Flatten())\n",
    "model.add(Dense(128, activation='relu'))\n",
    "\n",
    "# add the output layer with softmax activation\n",
    "model.add(Dense(num_classes, activation='softmax'))"
   ]
  },
  {
   "cell_type": "code",
   "execution_count": 8,
   "id": "7b372c31",
   "metadata": {},
   "outputs": [],
   "source": [
    "# compile the model with categorical cross-entropy loss and Adam optimizer\n",
    "model.compile(loss='categorical_crossentropy', optimizer='adam', metrics=['accuracy'])\n"
   ]
  },
  {
   "cell_type": "code",
   "execution_count": 9,
   "id": "fb250a31",
   "metadata": {},
   "outputs": [
    {
     "name": "stdout",
     "output_type": "stream",
     "text": [
      "Epoch 1/20\n",
      "375/375 [==============================] - 324s 863ms/step - loss: 0.2331 - accuracy: 0.9608\n",
      "Epoch 2/20\n",
      "375/375 [==============================] - 355s 944ms/step - loss: 0.0056 - accuracy: 0.9981\n",
      "Epoch 3/20\n",
      "375/375 [==============================] - 338s 900ms/step - loss: 8.8853e-04 - accuracy: 0.9997\n",
      "Epoch 4/20\n",
      "375/375 [==============================] - 354s 943ms/step - loss: 0.0135 - accuracy: 0.9964\n",
      "Epoch 5/20\n",
      "375/375 [==============================] - 358s 955ms/step - loss: 0.0022 - accuracy: 0.9997\n",
      "Epoch 6/20\n",
      "375/375 [==============================] - 354s 942ms/step - loss: 7.8783e-05 - accuracy: 1.0000\n",
      "Epoch 7/20\n",
      "375/375 [==============================] - 369s 984ms/step - loss: 1.8887e-04 - accuracy: 0.9999\n",
      "Epoch 8/20\n",
      "375/375 [==============================] - 395s 1s/step - loss: 6.9527e-04 - accuracy: 0.9998\n",
      "Epoch 9/20\n",
      "375/375 [==============================] - 381s 1s/step - loss: 0.0188 - accuracy: 0.9960\n",
      "Epoch 10/20\n",
      "375/375 [==============================] - 375s 999ms/step - loss: 0.0022 - accuracy: 0.9993\n",
      "Epoch 11/20\n",
      "375/375 [==============================] - 359s 955ms/step - loss: 8.0276e-04 - accuracy: 0.9997\n",
      "Epoch 12/20\n",
      "375/375 [==============================] - 355s 947ms/step - loss: 5.6466e-04 - accuracy: 0.9999\n",
      "Epoch 13/20\n",
      "375/375 [==============================] - 368s 980ms/step - loss: 0.0015 - accuracy: 0.9996\n",
      "Epoch 14/20\n",
      "375/375 [==============================] - 333s 888ms/step - loss: 8.9782e-04 - accuracy: 0.9997\n",
      "Epoch 15/20\n",
      "375/375 [==============================] - 355s 945ms/step - loss: 2.6893e-04 - accuracy: 0.9998\n",
      "Epoch 16/20\n",
      "375/375 [==============================] - 353s 942ms/step - loss: 5.8146e-04 - accuracy: 0.9999\n",
      "Epoch 17/20\n",
      "375/375 [==============================] - 350s 932ms/step - loss: 1.3688e-05 - accuracy: 1.0000\n",
      "Epoch 18/20\n",
      "375/375 [==============================] - 371s 989ms/step - loss: 4.3385e-04 - accuracy: 0.9998\n",
      "Epoch 19/20\n",
      "375/375 [==============================] - 371s 989ms/step - loss: 0.0029 - accuracy: 0.9994\n",
      "Epoch 20/20\n",
      "375/375 [==============================] - 354s 944ms/step - loss: 2.8286e-04 - accuracy: 0.9999\n"
     ]
    },
    {
     "data": {
      "text/plain": [
       "<keras.callbacks.History at 0x1c127bb8e20>"
      ]
     },
     "execution_count": 9,
     "metadata": {},
     "output_type": "execute_result"
    }
   ],
   "source": [
    "# train the model on the training dataset for a certain number of epochs\n",
    "model.fit(train_set, epochs=20)"
   ]
  },
  {
   "cell_type": "code",
   "execution_count": 10,
   "id": "c448c089",
   "metadata": {},
   "outputs": [
    {
     "name": "stdout",
     "output_type": "stream",
     "text": [
      "13/13 [==============================] - 3s 163ms/step - loss: 2.1269e-04 - accuracy: 1.0000\n",
      "Test accuracy: 1.0\n"
     ]
    }
   ],
   "source": [
    "# evaluate the model on the testing dataset\n",
    "test_loss, test_acc = model.evaluate(test_set)\n",
    "print('Test accuracy:', test_acc)"
   ]
  },
  {
   "cell_type": "code",
   "execution_count": 82,
   "id": "afd659d7",
   "metadata": {},
   "outputs": [
    {
     "name": "stdout",
     "output_type": "stream",
     "text": [
      "Found 7 images belonging to 4 classes.\n",
      "<keras.preprocessing.image.DirectoryIterator object at 0x000001C134B7BD90>\n"
     ]
    }
   ],
   "source": [
    "# use the model to predict the class labels of the validation images\n",
    "validation_datagen = ImageDataGenerator(rescale=1./255)\n",
    "validation_set = validation_datagen.flow_from_directory(\n",
    "    'Data_4Class\\\\Data_4Class\\\\inference',\n",
    "    target_size=(img_width, img_height),\n",
    "    batch_size=32,\n",
    "    class_mode=None,\n",
    "    shuffle=False)\n",
    "\n",
    "print(validation_set)"
   ]
  },
  {
   "cell_type": "code",
   "execution_count": 93,
   "id": "02f27df4",
   "metadata": {},
   "outputs": [
    {
     "name": "stdout",
     "output_type": "stream",
     "text": [
      "1/1 [==============================] - 0s 101ms/step\n"
     ]
    }
   ],
   "source": [
    "preds = model.predict(validation_set)\n",
    "predicted_classes = tf.argmax(preds, axis=1).numpy()"
   ]
  },
  {
   "cell_type": "code",
   "execution_count": 94,
   "id": "fdcc3d74",
   "metadata": {},
   "outputs": [
    {
     "data": {
      "text/plain": [
       "array([0, 0, 1, 2, 3, 3, 3], dtype=int64)"
      ]
     },
     "execution_count": 94,
     "metadata": {},
     "output_type": "execute_result"
    }
   ],
   "source": [
    "predicted_classes"
   ]
  },
  {
   "cell_type": "code",
   "execution_count": null,
   "id": "42c44d76",
   "metadata": {},
   "outputs": [],
   "source": []
  },
  {
   "cell_type": "code",
   "execution_count": null,
   "id": "a653ba3a",
   "metadata": {},
   "outputs": [],
   "source": []
  }
 ],
 "metadata": {
  "kernelspec": {
   "display_name": "Python 3 (ipykernel)",
   "language": "python",
   "name": "python3"
  },
  "language_info": {
   "codemirror_mode": {
    "name": "ipython",
    "version": 3
   },
   "file_extension": ".py",
   "mimetype": "text/x-python",
   "name": "python",
   "nbconvert_exporter": "python",
   "pygments_lexer": "ipython3",
   "version": "3.9.12"
  }
 },
 "nbformat": 4,
 "nbformat_minor": 5
}
