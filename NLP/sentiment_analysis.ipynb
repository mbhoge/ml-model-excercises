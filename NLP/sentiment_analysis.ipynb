{
 "cells": [
  {
   "cell_type": "code",
   "execution_count": 104,
   "id": "c445feeb",
   "metadata": {},
   "outputs": [],
   "source": [
    "import pandas as pd\n",
    "import numpy as np\n",
    "import matplotlib.pyplot as plt\n",
    "from sklearn.ensemble import RandomForestClassifier\n",
    "from sklearn.linear_model import LogisticRegression\n",
    "from sklearn.metrics import classification_report\n",
    "from sklearn.model_selection import train_test_split\n",
    "import re\n",
    "from imblearn.over_sampling import RandomOverSampler\n",
    "from sklearn.feature_extraction.text import CountVectorizer, TfidfVectorizer\n",
    "from nltk.tokenize import TreebankWordTokenizer, WhitespaceTokenizer"
   ]
  },
  {
   "cell_type": "code",
   "execution_count": null,
   "id": "54e47bfb",
   "metadata": {},
   "outputs": [],
   "source": [
    "txt = \"\"\"\n",
    "Natural language processing (NLP) is an interdisciplinary subfield of linguistics, computer science, and artificial intelligence concerned with the interactions between computers and human language, in particular how to program computers to process and analyze large amounts of natural language data. The goal is a computer capable of \"understanding\" the contents of documents, including the contextual nuances of the language within them. The technology can then accurately extract information and insights contained in the documents as well as categorize and organize the documents themselves.\n",
    "\"\"\""
   ]
  },
  {
   "cell_type": "code",
   "execution_count": 13,
   "id": "caa81fcf",
   "metadata": {},
   "outputs": [],
   "source": [
    "txt2 = \"\"\"The United States of America (U.S.A. or USA), commonly known as the United States (U.S. or US) or America, is a country primarily located in North America. It consists of 50 states, a federal district, five major unincorporated territories, nine Minor Outlying Islands,[g] and 326 Indian reservations.\n",
    "\"\"\""
   ]
  },
  {
   "cell_type": "code",
   "execution_count": 12,
   "id": "22914032",
   "metadata": {},
   "outputs": [
    {
     "name": "stdout",
     "output_type": "stream",
     "text": [
      "['Natural', 'language', 'processing', '(NLP)', 'is', 'an', 'interdisciplinary', 'subfield', 'of', 'linguistics,', 'computer', 'science,', 'and', 'artificial', 'intelligence', 'concerned', 'with', 'the', 'interactions', 'between', 'computers', 'and', 'human', 'language,', 'in', 'particular', 'how', 'to', 'program', 'computers', 'to', 'process', 'and', 'analyze', 'large', 'amounts', 'of', 'natural', 'language', 'data.', 'The', 'goal', 'is', 'a', 'computer', 'capable', 'of', '\"understanding\"', 'the', 'contents', 'of', 'documents,', 'including', 'the', 'contextual', 'nuances', 'of', 'the', 'language', 'within', 'them.', 'The', 'technology', 'can', 'then', 'accurately', 'extract', 'information', 'and', 'insights', 'contained', 'in', 'the', 'documents', 'as', 'well', 'as', 'categorize', 'and', 'organize', 'the', 'documents', 'themselves.']\n"
     ]
    }
   ],
   "source": [
    "print(txt.split())"
   ]
  },
  {
   "cell_type": "code",
   "execution_count": 14,
   "id": "49981324",
   "metadata": {},
   "outputs": [
    {
     "name": "stdout",
     "output_type": "stream",
     "text": [
      "['The', 'United', 'States', 'of', 'America', '(U.S.A.', 'or', 'USA),', 'commonly', 'known', 'as', 'the', 'United', 'States', '(U.S.', 'or', 'US)', 'or', 'America,', 'is', 'a', 'country', 'primarily', 'located', 'in', 'North', 'America.', 'It', 'consists', 'of', '50', 'states,', 'a', 'federal', 'district,', 'five', 'major', 'unincorporated', 'territories,', 'nine', 'Minor', 'Outlying', 'Islands,[g]', 'and', '326', 'Indian', 'reservations.']\n"
     ]
    }
   ],
   "source": [
    "print(txt2.split())"
   ]
  },
  {
   "cell_type": "code",
   "execution_count": 9,
   "id": "93e1f5f5",
   "metadata": {},
   "outputs": [],
   "source": [
    "data = pd.read_csv('train.tsv', sep='\\t')"
   ]
  },
  {
   "cell_type": "code",
   "execution_count": 18,
   "id": "daa4dd59",
   "metadata": {},
   "outputs": [],
   "source": [
    "tbt = TreebankWordTokenizer()\n",
    "wst = WhitespaceTokenizer()"
   ]
  },
  {
   "cell_type": "code",
   "execution_count": 19,
   "id": "ba47a251",
   "metadata": {},
   "outputs": [
    {
     "name": "stdout",
     "output_type": "stream",
     "text": [
      "['The', 'United', 'States', 'of', 'America', '(', 'U.S.A.', 'or', 'USA', ')', ',', 'commonly', 'known', 'as', 'the', 'United', 'States', '(', 'U.S.', 'or', 'US', ')', 'or', 'America', ',', 'is', 'a', 'country', 'primarily', 'located', 'in', 'North', 'America.', 'It', 'consists', 'of', '50', 'states', ',', 'a', 'federal', 'district', ',', 'five', 'major', 'unincorporated', 'territories', ',', 'nine', 'Minor', 'Outlying', 'Islands', ',', '[', 'g', ']', 'and', '326', 'Indian', 'reservations', '.']\n"
     ]
    }
   ],
   "source": [
    "print(tbt.tokenize(txt2))"
   ]
  },
  {
   "cell_type": "code",
   "execution_count": 20,
   "id": "15506615",
   "metadata": {},
   "outputs": [
    {
     "name": "stdout",
     "output_type": "stream",
     "text": [
      "['The', 'United', 'States', 'of', 'America', '(U.S.A.', 'or', 'USA),', 'commonly', 'known', 'as', 'the', 'United', 'States', '(U.S.', 'or', 'US)', 'or', 'America,', 'is', 'a', 'country', 'primarily', 'located', 'in', 'North', 'America.', 'It', 'consists', 'of', '50', 'states,', 'a', 'federal', 'district,', 'five', 'major', 'unincorporated', 'territories,', 'nine', 'Minor', 'Outlying', 'Islands,[g]', 'and', '326', 'Indian', 'reservations.']\n"
     ]
    }
   ],
   "source": [
    "print(wst.tokenize(txt2))"
   ]
  },
  {
   "cell_type": "code",
   "execution_count": 26,
   "id": "ce05c9d8",
   "metadata": {},
   "outputs": [
    {
     "data": {
      "text/plain": [
       "array([1, 2, 3, 4, 0], dtype=int64)"
      ]
     },
     "execution_count": 26,
     "metadata": {},
     "output_type": "execute_result"
    }
   ],
   "source": [
    "data[\"Sentiment\"].unique()"
   ]
  },
  {
   "cell_type": "markdown",
   "id": "7645a0ce",
   "metadata": {},
   "source": [
    "### Sentiment Label Meaning\n",
    "\n",
    " - 0: Highly Negative\n",
    " - 1: Negative\n",
    " - 2: Neutral\n",
    " - 3: Positive\n",
    " - 4: Highly Positive\n"
   ]
  },
  {
   "cell_type": "code",
   "execution_count": 27,
   "id": "aa212f73",
   "metadata": {},
   "outputs": [
    {
     "data": {
      "text/plain": [
       "2    79582\n",
       "3    32927\n",
       "1    27273\n",
       "4     9206\n",
       "0     7072\n",
       "Name: Sentiment, dtype: int64"
      ]
     },
     "execution_count": 27,
     "metadata": {},
     "output_type": "execute_result"
    }
   ],
   "source": [
    "data[\"Sentiment\"].value_counts()"
   ]
  },
  {
   "cell_type": "code",
   "execution_count": 28,
   "id": "d7f4f0cf",
   "metadata": {},
   "outputs": [
    {
     "data": {
      "text/plain": [
       "2    0.509945\n",
       "3    0.210989\n",
       "1    0.174760\n",
       "4    0.058990\n",
       "0    0.045316\n",
       "Name: Sentiment, dtype: float64"
      ]
     },
     "execution_count": 28,
     "metadata": {},
     "output_type": "execute_result"
    }
   ],
   "source": [
    "data[\"Sentiment\"].value_counts(normalize=True)"
   ]
  },
  {
   "cell_type": "code",
   "execution_count": 30,
   "id": "5cfa4190",
   "metadata": {},
   "outputs": [
    {
     "data": {
      "text/plain": [
       "Text(0.5, 1.0, '% of reviews by sentiment score')"
      ]
     },
     "execution_count": 30,
     "metadata": {},
     "output_type": "execute_result"
    },
    {
     "data": {
      "image/png": "[encoded data removed]",
      "text/plain": [
       "<Figure size 720x360 with 1 Axes>"
      ]
     },
     "metadata": {
      "needs_background": "light"
     },
     "output_type": "display_data"
    }
   ],
   "source": [
    "data[\"Sentiment\"].value_counts(normalize=True).plot(kind='bar', figsize=(10,5))\n",
    "plt.xlabel('Sentiment Score')\n",
    "plt.ylabel('% of reviews')\n",
    "plt.title('% of reviews by sentiment score', fontsize=14, color='navy')"
   ]
  },
  {
   "cell_type": "code",
   "execution_count": 40,
   "id": "88a879a7",
   "metadata": {},
   "outputs": [],
   "source": [
    "# Find number of token in each phrase\n",
    "def token_counter(txt):\n",
    "    # String is empty or null\n",
    "    # txt is not string\n",
    "    if isinstance(txt,str):\n",
    "        tokens = tbt.tokenize(txt)\n",
    "        return len(tokens)\n",
    "    return 0"
   ]
  },
  {
   "cell_type": "code",
   "execution_count": 48,
   "id": "2412856f",
   "metadata": {},
   "outputs": [],
   "source": [
    "# Create new dataframe that has more than 3 tokens in a phrase\n",
    "\n",
    "relevant_data = data[data[\"token_counter\"]>3]"
   ]
  },
  {
   "cell_type": "code",
   "execution_count": 49,
   "id": "e5480baf",
   "metadata": {},
   "outputs": [],
   "source": [
    "data[\"token_counter\"] = data[\"Phrase\"].map(token_counter)"
   ]
  },
  {
   "cell_type": "code",
   "execution_count": 50,
   "id": "f6fc1e86",
   "metadata": {},
   "outputs": [
    {
     "data": {
      "text/html": [
       "<div>\n",
       "<style scoped>\n",
       "    .dataframe tbody tr th:only-of-type {\n",
       "        vertical-align: middle;\n",
       "    }\n",
       "\n",
       "    .dataframe tbody tr th {\n",
       "        vertical-align: top;\n",
       "    }\n",
       "\n",
       "    .dataframe thead th {\n",
       "        text-align: right;\n",
       "    }\n",
       "</style>\n",
       "<table border=\"1\" class=\"dataframe\">\n",
       "  <thead>\n",
       "    <tr style=\"text-align: right;\">\n",
       "      <th></th>\n",
       "      <th>PhraseId</th>\n",
       "      <th>SentenceId</th>\n",
       "      <th>Phrase</th>\n",
       "      <th>Sentiment</th>\n",
       "      <th>token_counter</th>\n",
       "    </tr>\n",
       "  </thead>\n",
       "  <tbody>\n",
       "    <tr>\n",
       "      <th>0</th>\n",
       "      <td>1</td>\n",
       "      <td>1</td>\n",
       "      <td>A series of escapades demonstrating the adage ...</td>\n",
       "      <td>1</td>\n",
       "      <td>37</td>\n",
       "    </tr>\n",
       "    <tr>\n",
       "      <th>1</th>\n",
       "      <td>2</td>\n",
       "      <td>1</td>\n",
       "      <td>A series of escapades demonstrating the adage ...</td>\n",
       "      <td>2</td>\n",
       "      <td>14</td>\n",
       "    </tr>\n",
       "    <tr>\n",
       "      <th>2</th>\n",
       "      <td>3</td>\n",
       "      <td>1</td>\n",
       "      <td>A series</td>\n",
       "      <td>2</td>\n",
       "      <td>2</td>\n",
       "    </tr>\n",
       "    <tr>\n",
       "      <th>3</th>\n",
       "      <td>4</td>\n",
       "      <td>1</td>\n",
       "      <td>A</td>\n",
       "      <td>2</td>\n",
       "      <td>1</td>\n",
       "    </tr>\n",
       "    <tr>\n",
       "      <th>4</th>\n",
       "      <td>5</td>\n",
       "      <td>1</td>\n",
       "      <td>series</td>\n",
       "      <td>2</td>\n",
       "      <td>1</td>\n",
       "    </tr>\n",
       "    <tr>\n",
       "      <th>...</th>\n",
       "      <td>...</td>\n",
       "      <td>...</td>\n",
       "      <td>...</td>\n",
       "      <td>...</td>\n",
       "      <td>...</td>\n",
       "    </tr>\n",
       "    <tr>\n",
       "      <th>156055</th>\n",
       "      <td>156056</td>\n",
       "      <td>8544</td>\n",
       "      <td>Hearst 's</td>\n",
       "      <td>2</td>\n",
       "      <td>2</td>\n",
       "    </tr>\n",
       "    <tr>\n",
       "      <th>156056</th>\n",
       "      <td>156057</td>\n",
       "      <td>8544</td>\n",
       "      <td>forced avuncular chortles</td>\n",
       "      <td>1</td>\n",
       "      <td>3</td>\n",
       "    </tr>\n",
       "    <tr>\n",
       "      <th>156057</th>\n",
       "      <td>156058</td>\n",
       "      <td>8544</td>\n",
       "      <td>avuncular chortles</td>\n",
       "      <td>3</td>\n",
       "      <td>2</td>\n",
       "    </tr>\n",
       "    <tr>\n",
       "      <th>156058</th>\n",
       "      <td>156059</td>\n",
       "      <td>8544</td>\n",
       "      <td>avuncular</td>\n",
       "      <td>2</td>\n",
       "      <td>1</td>\n",
       "    </tr>\n",
       "    <tr>\n",
       "      <th>156059</th>\n",
       "      <td>156060</td>\n",
       "      <td>8544</td>\n",
       "      <td>chortles</td>\n",
       "      <td>2</td>\n",
       "      <td>1</td>\n",
       "    </tr>\n",
       "  </tbody>\n",
       "</table>\n",
       "<p>156060 rows × 5 columns</p>\n",
       "</div>"
      ],
      "text/plain": [
       "        PhraseId  SentenceId  \\\n",
       "0              1           1   \n",
       "1              2           1   \n",
       "2              3           1   \n",
       "3              4           1   \n",
       "4              5           1   \n",
       "...          ...         ...   \n",
       "156055    156056        8544   \n",
       "156056    156057        8544   \n",
       "156057    156058        8544   \n",
       "156058    156059        8544   \n",
       "156059    156060        8544   \n",
       "\n",
       "                                                   Phrase  Sentiment  \\\n",
       "0       A series of escapades demonstrating the adage ...          1   \n",
       "1       A series of escapades demonstrating the adage ...          2   \n",
       "2                                                A series          2   \n",
       "3                                                       A          2   \n",
       "4                                                  series          2   \n",
       "...                                                   ...        ...   \n",
       "156055                                          Hearst 's          2   \n",
       "156056                          forced avuncular chortles          1   \n",
       "156057                                 avuncular chortles          3   \n",
       "156058                                          avuncular          2   \n",
       "156059                                           chortles          2   \n",
       "\n",
       "        token_counter  \n",
       "0                  37  \n",
       "1                  14  \n",
       "2                   2  \n",
       "3                   1  \n",
       "4                   1  \n",
       "...               ...  \n",
       "156055              2  \n",
       "156056              3  \n",
       "156057              2  \n",
       "156058              1  \n",
       "156059              1  \n",
       "\n",
       "[156060 rows x 5 columns]"
      ]
     },
     "execution_count": 50,
     "metadata": {},
     "output_type": "execute_result"
    }
   ],
   "source": [
    "data"
   ]
  },
  {
   "cell_type": "code",
   "execution_count": 43,
   "id": "9f75312a",
   "metadata": {},
   "outputs": [
    {
     "data": {
      "text/plain": [
       "Text(0.5, 1.0, '% of reviews by sentiment score')"
      ]
     },
     "execution_count": 43,
     "metadata": {},
     "output_type": "execute_result"
    },
    {
     "data": {
      "image/png": "[encoded data removed]",
      "text/plain": [
       "<Figure size 720x360 with 1 Axes>"
      ]
     },
     "metadata": {
      "needs_background": "light"
     },
     "output_type": "display_data"
    }
   ],
   "source": [
    "data[\"token_counter\"].value_counts(normalize=True).plot(kind='bar', figsize=(10,5))\n",
    "plt.xlabel('Sentiment Score')\n",
    "plt.ylabel('% of reviews')\n",
    "plt.title('% of reviews by sentiment score', fontsize=14, color='navy')"
   ]
  },
  {
   "cell_type": "code",
   "execution_count": 63,
   "id": "20e7bab1",
   "metadata": {},
   "outputs": [
    {
     "data": {
      "text/html": [
       "<div>\n",
       "<style scoped>\n",
       "    .dataframe tbody tr th:only-of-type {\n",
       "        vertical-align: middle;\n",
       "    }\n",
       "\n",
       "    .dataframe tbody tr th {\n",
       "        vertical-align: top;\n",
       "    }\n",
       "\n",
       "    .dataframe thead th {\n",
       "        text-align: right;\n",
       "    }\n",
       "</style>\n",
       "<table border=\"1\" class=\"dataframe\">\n",
       "  <thead>\n",
       "    <tr style=\"text-align: right;\">\n",
       "      <th></th>\n",
       "      <th>Phrase</th>\n",
       "      <th>Count</th>\n",
       "    </tr>\n",
       "  </thead>\n",
       "  <tbody>\n",
       "    <tr>\n",
       "      <th>0</th>\n",
       "      <td>A series of escapades demonstrating the adage ...</td>\n",
       "      <td>1</td>\n",
       "    </tr>\n",
       "    <tr>\n",
       "      <th>1</th>\n",
       "      <td>exist without the precedent of Yiddish theater...</td>\n",
       "      <td>1</td>\n",
       "    </tr>\n",
       "    <tr>\n",
       "      <th>2</th>\n",
       "      <td>American musical comedy as we</td>\n",
       "      <td>1</td>\n",
       "    </tr>\n",
       "    <tr>\n",
       "      <th>3</th>\n",
       "      <td>American musical comedy</td>\n",
       "      <td>1</td>\n",
       "    </tr>\n",
       "    <tr>\n",
       "      <th>4</th>\n",
       "      <td>as we</td>\n",
       "      <td>1</td>\n",
       "    </tr>\n",
       "    <tr>\n",
       "      <th>...</th>\n",
       "      <td>...</td>\n",
       "      <td>...</td>\n",
       "    </tr>\n",
       "    <tr>\n",
       "      <th>156055</th>\n",
       "      <td>'s kind</td>\n",
       "      <td>1</td>\n",
       "    </tr>\n",
       "    <tr>\n",
       "      <th>156056</th>\n",
       "      <td>of insulting , both to men and women</td>\n",
       "      <td>1</td>\n",
       "    </tr>\n",
       "    <tr>\n",
       "      <th>156057</th>\n",
       "      <td>of insulting</td>\n",
       "      <td>1</td>\n",
       "    </tr>\n",
       "    <tr>\n",
       "      <th>156058</th>\n",
       "      <td>, both to men and women</td>\n",
       "      <td>1</td>\n",
       "    </tr>\n",
       "    <tr>\n",
       "      <th>156059</th>\n",
       "      <td>chortles</td>\n",
       "      <td>1</td>\n",
       "    </tr>\n",
       "  </tbody>\n",
       "</table>\n",
       "<p>156060 rows × 2 columns</p>\n",
       "</div>"
      ],
      "text/plain": [
       "                                                   Phrase  Count\n",
       "0       A series of escapades demonstrating the adage ...      1\n",
       "1       exist without the precedent of Yiddish theater...      1\n",
       "2                           American musical comedy as we      1\n",
       "3                                 American musical comedy      1\n",
       "4                                                   as we      1\n",
       "...                                                   ...    ...\n",
       "156055                                            's kind      1\n",
       "156056               of insulting , both to men and women      1\n",
       "156057                                       of insulting      1\n",
       "156058                            , both to men and women      1\n",
       "156059                                           chortles      1\n",
       "\n",
       "[156060 rows x 2 columns]"
      ]
     },
     "execution_count": 63,
     "metadata": {},
     "output_type": "execute_result"
    }
   ],
   "source": [
    "phrase_count = pd.DataFrame(data[\"Phrase\"].value_counts()).reset_index()\n",
    "phrase_count.columns = [\"Phrase\", \"Count\"]\n",
    "# phrase_count = phrase_count[phrase_count[\"Count\"]>1]\n",
    "phrase_count"
   ]
  },
  {
   "cell_type": "code",
   "execution_count": 65,
   "id": "6137f9de",
   "metadata": {},
   "outputs": [
    {
     "data": {
      "text/plain": [
       "374"
      ]
     },
     "execution_count": 65,
     "metadata": {},
     "output_type": "execute_result"
    }
   ],
   "source": [
    "len([i for i in data[\"Phrase\"].values if \"series\" in i])"
   ]
  },
  {
   "cell_type": "code",
   "execution_count": 66,
   "id": "ecff1b70",
   "metadata": {},
   "outputs": [
    {
     "data": {
      "text/plain": [
       "'A series of escapades demonstrating the adage that what is good for the goose is also good for the gander , some of which occasionally amuses but none of which amounts to much of a story .'"
      ]
     },
     "execution_count": 66,
     "metadata": {},
     "output_type": "execute_result"
    }
   ],
   "source": [
    "data[\"Phrase\"][0]"
   ]
  },
  {
   "cell_type": "code",
   "execution_count": 69,
   "id": "4849999c",
   "metadata": {},
   "outputs": [
    {
     "data": {
      "text/plain": [
       "2.620420000379036"
      ]
     },
     "execution_count": 69,
     "metadata": {},
     "output_type": "execute_result"
    }
   ],
   "source": [
    "tf = 1\n",
    "df = len([i for i in data[\"Phrase\"].values if \"series\" in i])\n",
    "nd = data.shape[0]\n",
    "tf * (np.log10(nd/df))"
   ]
  },
  {
   "cell_type": "code",
   "execution_count": 70,
   "id": "889d3b7a",
   "metadata": {},
   "outputs": [],
   "source": [
    "# Define pre processing steps\n",
    "\n",
    "def preprocess_review(review):\n",
    "    \"\"\"\n",
    "    Pre processes reviews\n",
    "    \"\"\"\n",
    "    \n",
    "    # 1. Tokenize text using NLTK TreeBank Tokenizer (Output will be a list)\n",
    "    # 2. Every token that is not alpha/numeic/alpha-numeric, replace it with empty string\n",
    "    # 3. Convert all tokens to lower case\n",
    "    # 4. Join the precessed tokens with a \" \"\n",
    "    \n",
    "    return ' '.join([t.lower().strip() for t in tbt.tokenize(re.sub('[^a-z0-9\\s]', '', review, flags=re.I|re.M))])\n"
   ]
  },
  {
   "cell_type": "code",
   "execution_count": 72,
   "id": "bbebf78c",
   "metadata": {},
   "outputs": [
    {
     "data": {
      "text/plain": [
       "'a series of escapades demonstrating the adage that what is good for the goose is also good for the gander some of which occasionally amuses but none of which amounts to much of a story'"
      ]
     },
     "execution_count": 72,
     "metadata": {},
     "output_type": "execute_result"
    }
   ],
   "source": [
    "preprocess_review(data.iloc[0][\"Phrase\"])"
   ]
  },
  {
   "cell_type": "code",
   "execution_count": 74,
   "id": "acb52177",
   "metadata": {},
   "outputs": [
    {
     "name": "stderr",
     "output_type": "stream",
     "text": [
      "C:\\Users\\Manish_Bhoge\\AppData\\Local\\Temp\\ipykernel_25196\\1123486741.py:1: SettingWithCopyWarning: \n",
      "A value is trying to be set on a copy of a slice from a DataFrame.\n",
      "Try using .loc[row_indexer,col_indexer] = value instead\n",
      "\n",
      "See the caveats in the documentation: https://pandas.pydata.org/pandas-docs/stable/user_guide/indexing.html#returning-a-view-versus-a-copy\n",
      "  relevant_data['review'] = data['Phrase'].map(preprocess_review)\n"
     ]
    }
   ],
   "source": [
    "relevant_data['review'] = data['Phrase'].map(preprocess_review)"
   ]
  },
  {
   "cell_type": "code",
   "execution_count": 76,
   "id": "a090eee0",
   "metadata": {},
   "outputs": [
    {
     "data": {
      "text/html": [
       "<div>\n",
       "<style scoped>\n",
       "    .dataframe tbody tr th:only-of-type {\n",
       "        vertical-align: middle;\n",
       "    }\n",
       "\n",
       "    .dataframe tbody tr th {\n",
       "        vertical-align: top;\n",
       "    }\n",
       "\n",
       "    .dataframe thead th {\n",
       "        text-align: right;\n",
       "    }\n",
       "</style>\n",
       "<table border=\"1\" class=\"dataframe\">\n",
       "  <thead>\n",
       "    <tr style=\"text-align: right;\">\n",
       "      <th></th>\n",
       "      <th>PhraseId</th>\n",
       "      <th>SentenceId</th>\n",
       "      <th>Phrase</th>\n",
       "      <th>Sentiment</th>\n",
       "      <th>token_counter</th>\n",
       "      <th>review</th>\n",
       "    </tr>\n",
       "  </thead>\n",
       "  <tbody>\n",
       "    <tr>\n",
       "      <th>0</th>\n",
       "      <td>1</td>\n",
       "      <td>1</td>\n",
       "      <td>A series of escapades demonstrating the adage ...</td>\n",
       "      <td>1</td>\n",
       "      <td>37</td>\n",
       "      <td>a series of escapades demonstrating the adage ...</td>\n",
       "    </tr>\n",
       "    <tr>\n",
       "      <th>1</th>\n",
       "      <td>2</td>\n",
       "      <td>1</td>\n",
       "      <td>A series of escapades demonstrating the adage ...</td>\n",
       "      <td>2</td>\n",
       "      <td>14</td>\n",
       "      <td>a series of escapades demonstrating the adage ...</td>\n",
       "    </tr>\n",
       "    <tr>\n",
       "      <th>5</th>\n",
       "      <td>6</td>\n",
       "      <td>1</td>\n",
       "      <td>of escapades demonstrating the adage that what...</td>\n",
       "      <td>2</td>\n",
       "      <td>12</td>\n",
       "      <td>of escapades demonstrating the adage that what...</td>\n",
       "    </tr>\n",
       "    <tr>\n",
       "      <th>7</th>\n",
       "      <td>8</td>\n",
       "      <td>1</td>\n",
       "      <td>escapades demonstrating the adage that what is...</td>\n",
       "      <td>2</td>\n",
       "      <td>11</td>\n",
       "      <td>escapades demonstrating the adage that what is...</td>\n",
       "    </tr>\n",
       "    <tr>\n",
       "      <th>9</th>\n",
       "      <td>10</td>\n",
       "      <td>1</td>\n",
       "      <td>demonstrating the adage that what is good for ...</td>\n",
       "      <td>2</td>\n",
       "      <td>10</td>\n",
       "      <td>demonstrating the adage that what is good for ...</td>\n",
       "    </tr>\n",
       "  </tbody>\n",
       "</table>\n",
       "</div>"
      ],
      "text/plain": [
       "   PhraseId  SentenceId                                             Phrase  \\\n",
       "0         1           1  A series of escapades demonstrating the adage ...   \n",
       "1         2           1  A series of escapades demonstrating the adage ...   \n",
       "5         6           1  of escapades demonstrating the adage that what...   \n",
       "7         8           1  escapades demonstrating the adage that what is...   \n",
       "9        10           1  demonstrating the adage that what is good for ...   \n",
       "\n",
       "   Sentiment  token_counter                                             review  \n",
       "0          1             37  a series of escapades demonstrating the adage ...  \n",
       "1          2             14  a series of escapades demonstrating the adage ...  \n",
       "5          2             12  of escapades demonstrating the adage that what...  \n",
       "7          2             11  escapades demonstrating the adage that what is...  \n",
       "9          2             10  demonstrating the adage that what is good for ...  "
      ]
     },
     "execution_count": 76,
     "metadata": {},
     "output_type": "execute_result"
    }
   ],
   "source": [
    "relevant_data.head()"
   ]
  },
  {
   "cell_type": "code",
   "execution_count": 95,
   "id": "b4bd36ea",
   "metadata": {},
   "outputs": [],
   "source": [
    "X = relevant_data['review']\n",
    "y = relevant_data['Sentiment']"
   ]
  },
  {
   "cell_type": "code",
   "execution_count": 96,
   "id": "24c92874",
   "metadata": {},
   "outputs": [],
   "source": [
    "X_train, X_test, y_train, y_test = train_test_split(X, y, train_size=0.7, random_state=7)"
   ]
  },
  {
   "cell_type": "code",
   "execution_count": 97,
   "id": "4aa6eae7",
   "metadata": {},
   "outputs": [],
   "source": [
    "cvect = CountVectorizer()"
   ]
  },
  {
   "cell_type": "code",
   "execution_count": 98,
   "id": "64ea5fc4",
   "metadata": {},
   "outputs": [],
   "source": [
    "X_train_vect = cvect.fit_transform(X_train)"
   ]
  },
  {
   "cell_type": "markdown",
   "id": "a5bbc60b",
   "metadata": {},
   "source": [
    "# Run the same vector on Randomforest Classifier"
   ]
  },
  {
   "cell_type": "code",
   "execution_count": 99,
   "id": "6f71d1fb",
   "metadata": {},
   "outputs": [],
   "source": [
    "rf = RandomForestClassifier()"
   ]
  },
  {
   "cell_type": "code",
   "execution_count": 100,
   "id": "fb05fd1f",
   "metadata": {},
   "outputs": [
    {
     "data": {
      "text/plain": [
       "RandomForestClassifier()"
      ]
     },
     "execution_count": 100,
     "metadata": {},
     "output_type": "execute_result"
    }
   ],
   "source": [
    "rf.fit(X_train_vect, y_train)"
   ]
  },
  {
   "cell_type": "code",
   "execution_count": 101,
   "id": "213e74e4",
   "metadata": {},
   "outputs": [],
   "source": [
    "y_pred = rf.predict(cvect.transform(X_test))"
   ]
  },
  {
   "cell_type": "code",
   "execution_count": 102,
   "id": "330c094f",
   "metadata": {},
   "outputs": [
    {
     "name": "stdout",
     "output_type": "stream",
     "text": [
      "              precision    recall  f1-score   support\n",
      "\n",
      "           0       0.46      0.37      0.41      1792\n",
      "           1       0.55      0.47      0.51      5910\n",
      "           2       0.61      0.74      0.67     11083\n",
      "           3       0.56      0.52      0.54      6730\n",
      "           4       0.52      0.39      0.45      2259\n",
      "\n",
      "    accuracy                           0.57     27774\n",
      "   macro avg       0.54      0.50      0.51     27774\n",
      "weighted avg       0.57      0.57      0.57     27774\n",
      "\n"
     ]
    }
   ],
   "source": [
    "print(classification_report(y_test, y_pred))"
   ]
  },
  {
   "cell_type": "markdown",
   "id": "ce30405e",
   "metadata": {},
   "source": [
    "# Run the same vector on Logistics Regression"
   ]
  },
  {
   "cell_type": "code",
   "execution_count": 105,
   "id": "352d713e",
   "metadata": {},
   "outputs": [],
   "source": [
    "logr = LogisticRegression()"
   ]
  },
  {
   "cell_type": "code",
   "execution_count": 106,
   "id": "7d2a852b",
   "metadata": {},
   "outputs": [
    {
     "data": {
      "text/plain": [
       "RandomForestClassifier()"
      ]
     },
     "execution_count": 106,
     "metadata": {},
     "output_type": "execute_result"
    }
   ],
   "source": [
    "rf.fit(X_train_vect, y_train)"
   ]
  },
  {
   "cell_type": "code",
   "execution_count": 107,
   "id": "a1d98b5a",
   "metadata": {},
   "outputs": [],
   "source": [
    "y_pred = rf.predict(cvect.transform(X_test))"
   ]
  },
  {
   "cell_type": "code",
   "execution_count": 108,
   "id": "17e329cf",
   "metadata": {},
   "outputs": [
    {
     "name": "stdout",
     "output_type": "stream",
     "text": [
      "              precision    recall  f1-score   support\n",
      "\n",
      "           0       0.46      0.37      0.41      1792\n",
      "           1       0.55      0.47      0.51      5910\n",
      "           2       0.61      0.73      0.66     11083\n",
      "           3       0.56      0.52      0.54      6730\n",
      "           4       0.53      0.39      0.45      2259\n",
      "\n",
      "    accuracy                           0.57     27774\n",
      "   macro avg       0.54      0.50      0.51     27774\n",
      "weighted avg       0.57      0.57      0.57     27774\n",
      "\n"
     ]
    }
   ],
   "source": [
    "print(classification_report(y_test, y_pred))"
   ]
  },
  {
   "cell_type": "code",
   "execution_count": null,
   "id": "9aa8a29c",
   "metadata": {},
   "outputs": [],
   "source": []
  }
 ],
 "metadata": {
  "kernelspec": {
   "display_name": "Python 3 (ipykernel)",
   "language": "python",
   "name": "python3"
  },
  "language_info": {
   "codemirror_mode": {
    "name": "ipython",
    "version": 3
   },
   "file_extension": ".py",
   "mimetype": "text/x-python",
   "name": "python",
   "nbconvert_exporter": "python",
   "pygments_lexer": "ipython3",
   "version": "3.9.12"
  }
 },
 "nbformat": 4,
 "nbformat_minor": 5
}
