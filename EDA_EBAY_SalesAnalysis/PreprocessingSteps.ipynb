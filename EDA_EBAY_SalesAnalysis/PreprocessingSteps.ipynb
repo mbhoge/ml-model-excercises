{
 "cells": [
  {
   "cell_type": "markdown",
   "id": "d126f82a",
   "metadata": {},
   "source": [
    "Select the claim from the Q_JOBDETAILS where Q_PROJECTEXPORT.CREATED_AT > LASTTIMEPROCESSED\n",
    "\n",
    "Select the claim from the JOB where JOB.DATECHANGED > LASTTIMEPROCESSED"
   ]
  },
  {
   "cell_type": "markdown",
   "id": "9acd85a3",
   "metadata": {},
   "source": [
    "Select the records from Q_PROJECTEXPORT where Q_PROJECTEXPORT.Q_JOBDETAILSID = Q_JOBDETAILS.ID and Q_JOBDETAILS.CLAIMNUMBER = CT.CLAIMNUMBER and Q_PROJECTEXPORT='COMPLETED' and Q_PROJECTEXPORT.Q_STATETOOBOASSIGNMENT_ID = Q_STATETOOBOASSIGNMENT.ID and Q_STATETOOBOASSIGNMENT.Q_OBO_ID = Q_OBO.ID and Q_OBO.CARRIERCODE in (\"3372605\", \"3372630\", \"3372658\")"
   ]
  },
  {
   "cell_type": "markdown",
   "id": "065373eb",
   "metadata": {},
   "source": [
    "SELECT CTE2.*, coalesce(TYPEOFLOSSCODE, 0, 1) as Type_of_loss_flag from Q_PROJECTADMIN, CTE2 where Q_PROJECTEXPORTID = CTE2.Q_PROJECTEXPORT and TYPEOFLOSSCODE in (Select TYPEOFLOSSCODE from SA_SHOULDUSESA_SETTINGS )"
   ]
  },
  {
   "cell_type": "markdown",
   "id": "1304f7cf",
   "metadata": {},
   "source": [
    "###### QA job with RFG in a claim over a threshold In from the Project Export ######"
   ]
  },
  {
   "cell_type": "markdown",
   "id": "93d5173d",
   "metadata": {},
   "source": [
    "Select coalesce(Q_Export_Id, 'True', Q_Export_Id) as IsDisqualifiedJob, coalesce(Q_Export_Id, 'QA Claim with enough RFG was not found. Setting.RFGThreshold {setting.RFGThreshold}', NULL) as Result, Q_Export_Id, CLAIMNUMBER, RFGValue  from  (SELECT Q_PROJECTEXPORT_CTE.ID as Q_Export_Id, Q_PROJECTEXPORT_CTE.CLAIMNUMBER, SUM(Q_SCOPEITEM_RFG.TOTALPRICE) as RFGValue, SUM(Q_SCOPEITEM.Qunatity) from Q_PROJECTEXPORT_CTE, Q_JOBDETAILS, (SELECT * FROM Q_SCOPEITEM WHERE CATEGORY=='RFG') as Q_SCOPEITEM_RFG ON Q_PROJECTEXPORTID.ID and Q_PROJECTEXPORT_CTE.CLAIMNUMBER group by Q_PROJECTEXPORT_CTE.ID, Q_PROJECTEXPORT_CTE.CLAIMNUMBER\n",
    "having SUM(Qunatity) > setting.RFGThreshold) X"
   ]
  },
  {
   "cell_type": "markdown",
   "id": "6974e776",
   "metadata": {},
   "source": [
    "###### QA job with NULL RFG in a claim ######"
   ]
  },
  {
   "cell_type": "markdown",
   "id": "1fb9980c",
   "metadata": {},
   "source": [
    "SELECT Q_PROJECTEXPORT_CTE.ID, Q_PROJECTEXPORT_CTE.CLAIMNUMBER from Q_PROJECTEXPORT_CTE, Q_JOBDETAILS, (SELECT * FROM Q_SCOPEITEM WHERE CATEGORY ISNULL and SELECTOR in (XXX)) as Q_SCOPEITEM_RFG ON Q_PROJECTEXPORTID.ID and Q_PROJECTEXPORT_CTE.CLAIMNUMBER "
   ]
  },
  {
   "cell_type": "markdown",
   "id": "6d253c2a",
   "metadata": {},
   "source": [
    "Select \n",
    "Case when CTE3.Type_of_loss_flag == 0:\n",
    "    'true' as IsDisqualifiedJob;\n",
    "    'true' as IsDisqualifiedDueToLossType\n",
    "    'Type Of Loss doesn't match {tol}' as Result\n",
    "Case "
   ]
  }
 ],
 "metadata": {
  "celltoolbar": "Tags",
  "kernelspec": {
   "display_name": "Python 3 (ipykernel)",
   "language": "python",
   "name": "python3"
  },
  "language_info": {
   "codemirror_mode": {
    "name": "ipython",
    "version": 3
   },
   "file_extension": ".py",
   "mimetype": "text/x-python",
   "name": "python",
   "nbconvert_exporter": "python",
   "pygments_lexer": "ipython3",
   "version": "3.9.12"
  }
 },
 "nbformat": 4,
 "nbformat_minor": 5
}
