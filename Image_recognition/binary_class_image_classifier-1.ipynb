{
 "cells": [
  {
   "cell_type": "code",
   "execution_count": 42,
   "id": "55f7b380",
   "metadata": {},
   "outputs": [],
   "source": [
    "import tensorflow as tf\n",
    "# from tensorflow.keras.preprocessing.image import ImageDataGenerator\n",
    "from tensorflow import keras\n",
    "from tensorflow.keras.models import Sequential\n",
    "from tensorflow.keras.layers import Conv2D, MaxPooling2D, Flatten, Dense, Dropout\n",
    "from tensorflow.keras.preprocessing.image import ImageDataGenerator"
   ]
  },
  {
   "cell_type": "code",
   "execution_count": 43,
   "id": "3025b06b",
   "metadata": {},
   "outputs": [],
   "source": [
    "# Define directories for train, test, and validation data\n",
    "train_dir = \"Photographs\\\\Photographs\\\\train\"\n",
    "test_dir = \"Photographs\\\\Photographs\\\\test\"\n",
    "val_dir = \"Photographs\\\\Photographs\\\\validation\""
   ]
  },
  {
   "cell_type": "code",
   "execution_count": 44,
   "id": "e0c1f731",
   "metadata": {},
   "outputs": [
    {
     "name": "stdout",
     "output_type": "stream",
     "text": [
      "Found 389 images belonging to 2 classes.\n"
     ]
    }
   ],
   "source": [
    "# Create data generators for train, test, and validation data\n",
    "train_datagen = ImageDataGenerator(rescale=1./255)\n",
    "train_generator = train_datagen.flow_from_directory(\n",
    "    train_dir,\n",
    "    target_size=(224, 224),\n",
    "    batch_size=32,\n",
    "    class_mode='binary')"
   ]
  },
  {
   "cell_type": "code",
   "execution_count": 45,
   "id": "902a1c4d",
   "metadata": {},
   "outputs": [
    {
     "name": "stdout",
     "output_type": "stream",
     "text": [
      "Found 95 images belonging to 2 classes.\n"
     ]
    }
   ],
   "source": [
    "test_datagen = ImageDataGenerator(rescale=1./255)\n",
    "test_generator = test_datagen.flow_from_directory(\n",
    "    test_dir,\n",
    "    target_size=(224, 224),\n",
    "    batch_size=32,\n",
    "    class_mode='binary')"
   ]
  },
  {
   "cell_type": "code",
   "execution_count": 46,
   "id": "8fcb0375",
   "metadata": {},
   "outputs": [
    {
     "name": "stdout",
     "output_type": "stream",
     "text": [
      "Found 40 images belonging to 2 classes.\n"
     ]
    }
   ],
   "source": [
    "val_datagen = ImageDataGenerator(rescale=1./255)\n",
    "val_generator = val_datagen.flow_from_directory(\n",
    "    val_dir,\n",
    "    target_size=(224, 224),\n",
    "    batch_size=32,\n",
    "    class_mode='binary')"
   ]
  },
  {
   "cell_type": "markdown",
   "id": "718af1a6",
   "metadata": {},
   "source": [
    "# Create a multilayer neural network model using Keras API\n",
    "model = tf.keras.models.Sequential([\n",
    "    tf.keras.layers.Conv2D(16, (3,3), activation='relu', input_shape=(224, 224, 3)),\n",
    "    tf.keras.layers.MaxPooling2D(2, 2),\n",
    "    tf.keras.layers.Conv2D(32, (3,3), activation='relu'),\n",
    "    tf.keras.layers.MaxPooling2D(2,2),\n",
    "    tf.keras.layers.Conv2D(64, (3,3), activation='relu'),\n",
    "    tf.keras.layers.MaxPooling2D(2,2),\n",
    "    tf.keras.layers.Flatten(),\n",
    "    tf.keras.layers.Dense(512, activation='relu'),\n",
    "    tf.keras.layers.Dense(1, activation='sigmoid')\n",
    "])"
   ]
  },
  {
   "cell_type": "code",
   "execution_count": 47,
   "id": "584216fc",
   "metadata": {},
   "outputs": [],
   "source": [
    "# Define the model architecture\n",
    "model = Sequential([\n",
    "    Conv2D(32, (3, 3), activation='relu', input_shape=(224, 224, 3)),\n",
    "    MaxPooling2D((2, 2)),\n",
    "    Conv2D(64, (3, 3), activation='relu'),\n",
    "    MaxPooling2D((2, 2)),\n",
    "    Conv2D(128, (3, 3), activation='relu'),\n",
    "    MaxPooling2D((2, 2)),\n",
    "    Conv2D(128, (3, 3), activation='relu'),\n",
    "    MaxPooling2D((2, 2)),\n",
    "    Flatten(),\n",
    "    Dropout(0.5),\n",
    "    Dense(512, activation='relu'),\n",
    "    Dense(1, activation='sigmoid')\n",
    "])"
   ]
  },
  {
   "cell_type": "code",
   "execution_count": 48,
   "id": "9b16af6b",
   "metadata": {},
   "outputs": [],
   "source": [
    "# Compile the model with binary crossentropy loss function and Adam optimizer\n",
    "model.compile(loss='binary_crossentropy',\n",
    "              optimizer=tf.keras.optimizers.Adam(learning_rate=0.001),\n",
    "              metrics=['accuracy'])"
   ]
  },
  {
   "cell_type": "code",
   "execution_count": 57,
   "id": "9935b797",
   "metadata": {},
   "outputs": [
    {
     "name": "stdout",
     "output_type": "stream",
     "text": [
      "Epoch 1/10\n",
      "13/13 [==============================] - 12s 893ms/step - loss: 0.1705 - accuracy: 0.9280 - val_loss: 0.1931 - val_accuracy: 0.9250\n",
      "Epoch 2/10\n",
      "13/13 [==============================] - 11s 842ms/step - loss: 0.1996 - accuracy: 0.9306 - val_loss: 0.1994 - val_accuracy: 0.8750\n",
      "Epoch 3/10\n",
      "13/13 [==============================] - 12s 882ms/step - loss: 0.1531 - accuracy: 0.9434 - val_loss: 0.0779 - val_accuracy: 0.9500\n",
      "Epoch 4/10\n",
      "13/13 [==============================] - 15s 1s/step - loss: 0.0893 - accuracy: 0.9743 - val_loss: 0.0517 - val_accuracy: 0.9750\n",
      "Epoch 5/10\n",
      "13/13 [==============================] - 13s 968ms/step - loss: 0.1232 - accuracy: 0.9537 - val_loss: 0.0816 - val_accuracy: 0.9750\n",
      "Epoch 6/10\n",
      "13/13 [==============================] - 19s 1s/step - loss: 0.0543 - accuracy: 0.9846 - val_loss: 0.0481 - val_accuracy: 0.9750\n",
      "Epoch 7/10\n",
      "13/13 [==============================] - 21s 2s/step - loss: 0.0610 - accuracy: 0.9769 - val_loss: 0.0427 - val_accuracy: 0.9750\n",
      "Epoch 8/10\n",
      "13/13 [==============================] - 19s 1s/step - loss: 0.0294 - accuracy: 0.9897 - val_loss: 0.0861 - val_accuracy: 0.9750\n",
      "Epoch 9/10\n",
      "13/13 [==============================] - 17s 1s/step - loss: 0.0156 - accuracy: 0.9974 - val_loss: 0.1023 - val_accuracy: 0.9750\n",
      "Epoch 10/10\n",
      "13/13 [==============================] - 24s 2s/step - loss: 0.0100 - accuracy: 0.9949 - val_loss: 0.0805 - val_accuracy: 0.9750\n"
     ]
    }
   ],
   "source": [
    "# Train the model with train data and validate with validation data\n",
    "history = model.fit(train_generator,\n",
    "                    steps_per_epoch=len(train_generator),\n",
    "                    epochs=10,\n",
    "                    validation_data=val_generator,\n",
    "                    validation_steps=len(val_generator))"
   ]
  },
  {
   "cell_type": "code",
   "execution_count": 73,
   "id": "45c582bb",
   "metadata": {},
   "outputs": [
    {
     "name": "stdout",
     "output_type": "stream",
     "text": [
      "3/3 [==============================] - 1s 313ms/step - loss: 0.3113 - accuracy: 0.9053\n",
      "Test accuracy: 0.9052631855010986\n"
     ]
    }
   ],
   "source": [
    "# Evaluate the model with test data\n",
    "test_loss, test_acc = model.evaluate(test_generator)\n",
    "print('Test accuracy:', test_acc)"
   ]
  },
  {
   "cell_type": "code",
   "execution_count": 1,
   "id": "d67e723f",
   "metadata": {},
   "outputs": [
    {
     "ename": "NameError",
     "evalue": "name 'tf' is not defined",
     "output_type": "error",
     "traceback": [
      "\u001b[1;31m---------------------------------------------------------------------------\u001b[0m",
      "\u001b[1;31mNameError\u001b[0m                                 Traceback (most recent call last)",
      "Input \u001b[1;32mIn [1]\u001b[0m, in \u001b[0;36m<cell line: 10>\u001b[1;34m()\u001b[0m\n\u001b[0;32m     11\u001b[0m img_path \u001b[38;5;241m=\u001b[39m os\u001b[38;5;241m.\u001b[39mpath\u001b[38;5;241m.\u001b[39mjoin(cwd, val_dir, filename)\n\u001b[0;32m     12\u001b[0m img \u001b[38;5;241m=\u001b[39m Image\u001b[38;5;241m.\u001b[39mopen(img_path)\u001b[38;5;241m.\u001b[39mresize((\u001b[38;5;241m224\u001b[39m, \u001b[38;5;241m224\u001b[39m))\n\u001b[1;32m---> 13\u001b[0m img_array \u001b[38;5;241m=\u001b[39m \u001b[43mtf\u001b[49m\u001b[38;5;241m.\u001b[39mkeras\u001b[38;5;241m.\u001b[39mpreprocessing\u001b[38;5;241m.\u001b[39mimage\u001b[38;5;241m.\u001b[39mimg_to_array(img)\n\u001b[0;32m     14\u001b[0m image \u001b[38;5;241m=\u001b[39m img_array\u001b[38;5;241m.\u001b[39mreshape((\u001b[38;5;241m1\u001b[39m, img_array\u001b[38;5;241m.\u001b[39mshape[\u001b[38;5;241m0\u001b[39m], img_array\u001b[38;5;241m.\u001b[39mshape[\u001b[38;5;241m1\u001b[39m], img_array\u001b[38;5;241m.\u001b[39mshape[\u001b[38;5;241m2\u001b[39m]))\n\u001b[0;32m     15\u001b[0m image \u001b[38;5;241m=\u001b[39m image\u001b[38;5;241m.\u001b[39mastype(\u001b[38;5;124m'\u001b[39m\u001b[38;5;124mfloat32\u001b[39m\u001b[38;5;124m'\u001b[39m) \u001b[38;5;241m/\u001b[39m \u001b[38;5;241m255.0\u001b[39m\n",
      "\u001b[1;31mNameError\u001b[0m: name 'tf' is not defined"
     ]
    }
   ],
   "source": [
    "# Use the model to predict the images in the validation set\n",
    "import os\n",
    "from PIL import Image\n",
    "\n",
    "cwd = os.getcwd()\n",
    "# Define the path to the image file\n",
    "# img_path = os.path.join(cwd, val_dir, \"natural-scenery.png\")\n",
    "val_dir = \"C:\\\\validation\\\\indoor\"\n",
    "# val_dir = val_dir + '\\\\indoor'\n",
    "for filename in os.listdir(val_dir):\n",
    "    img_path = os.path.join(cwd, val_dir, filename)\n",
    "    img = Image.open(img_path).resize((224, 224))\n",
    "    img_array = tf.keras.preprocessing.image.img_to_array(img)\n",
    "    image = img_array.reshape((1, img_array.shape[0], img_array.shape[1], img_array.shape[2]))\n",
    "    image = image.astype('float32') / 255.0\n",
    "    #img_array = tf.expand_dims(img_array, 0) # Create a batch of size 1\n",
    "    prediction = model.predict(image)\n",
    "    predicted_label = 'outdoor' if prediction < 0.5 else 'indoor'\n",
    "    print(f'{filename}: {prediction} {predicted_label}')"
   ]
  },
  {
   "cell_type": "code",
   "execution_count": null,
   "id": "e2a0ad8f",
   "metadata": {},
   "outputs": [],
   "source": []
  }
 ],
 "metadata": {
  "kernelspec": {
   "display_name": "Python 3 (ipykernel)",
   "language": "python",
   "name": "python3"
  },
  "language_info": {
   "codemirror_mode": {
    "name": "ipython",
    "version": 3
   },
   "file_extension": ".py",
   "mimetype": "text/x-python",
   "name": "python",
   "nbconvert_exporter": "python",
   "pygments_lexer": "ipython3",
   "version": "3.9.12"
  }
 },
 "nbformat": 4,
 "nbformat_minor": 5
}
