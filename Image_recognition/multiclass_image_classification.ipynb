{
 "cells": [
  {
   "cell_type": "code",
   "execution_count": 1,
   "id": "e4d21f88",
   "metadata": {},
   "outputs": [],
   "source": [
    "import tensorflow as tf\n",
    "from tensorflow import keras\n",
    "from tensorflow.keras import layers"
   ]
  },
  {
   "cell_type": "code",
   "execution_count": 2,
   "id": "de45c84c",
   "metadata": {},
   "outputs": [],
   "source": [
    "# Define hyperparameters\n",
    "batch_size = 20\n",
    "img_height = 180\n",
    "img_width = 180\n",
    "num_classes = 4\n",
    "epochs = 10\n"
   ]
  },
  {
   "cell_type": "code",
   "execution_count": 3,
   "id": "a0e03242",
   "metadata": {},
   "outputs": [
    {
     "name": "stdout",
     "output_type": "stream",
     "text": [
      "Found 12000 files belonging to 4 classes.\n",
      "Using 9600 files for training.\n"
     ]
    }
   ],
   "source": [
    "# Create training dataset\n",
    "train_ds = tf.keras.preprocessing.image_dataset_from_directory(\n",
    "    \"Data_4class\\\\Data_4class\\\\train\",\n",
    "    validation_split=0.2,\n",
    "    subset=\"training\",\n",
    "    seed=123,\n",
    "    image_size=(img_height, img_width),\n",
    "    batch_size=batch_size)"
   ]
  },
  {
   "cell_type": "code",
   "execution_count": 4,
   "id": "f27db644",
   "metadata": {},
   "outputs": [
    {
     "name": "stdout",
     "output_type": "stream",
     "text": [
      "Found 12000 files belonging to 4 classes.\n",
      "Using 2400 files for validation.\n"
     ]
    }
   ],
   "source": [
    "# Create validation dataset\n",
    "val_ds = tf.keras.preprocessing.image_dataset_from_directory(\n",
    "    \"Data_4class\\\\Data_4class\\\\train\",\n",
    "    validation_split=0.2,\n",
    "    subset=\"validation\",\n",
    "    seed=123,\n",
    "    image_size=(img_height, img_width),\n",
    "    batch_size=batch_size)"
   ]
  },
  {
   "cell_type": "code",
   "execution_count": 5,
   "id": "8a7f585c",
   "metadata": {},
   "outputs": [
    {
     "name": "stdout",
     "output_type": "stream",
     "text": [
      "Found 400 files belonging to 4 classes.\n"
     ]
    }
   ],
   "source": [
    "# Create test dataset\n",
    "test_ds = tf.keras.preprocessing.image_dataset_from_directory(\n",
    "    \"Data_4class\\\\Data_4class\\\\test\",\n",
    "    seed=123,\n",
    "    image_size=(img_height, img_width),\n",
    "    batch_size=batch_size)\n"
   ]
  },
  {
   "cell_type": "code",
   "execution_count": 6,
   "id": "4b5e879a",
   "metadata": {},
   "outputs": [],
   "source": [
    "# Configure dataset for performance\n",
    "train_ds = train_ds.prefetch(buffer_size=tf.data.AUTOTUNE)\n",
    "val_ds = val_ds.prefetch(buffer_size=tf.data.AUTOTUNE)\n",
    "test_ds = test_ds.prefetch(buffer_size=tf.data.AUTOTUNE)"
   ]
  },
  {
   "cell_type": "code",
   "execution_count": 7,
   "id": "b28926cd",
   "metadata": {},
   "outputs": [],
   "source": [
    "# Create model\n",
    "model = keras.Sequential([\n",
    "    layers.experimental.preprocessing.Rescaling(1./255, input_shape=(img_height, img_width, 3)),\n",
    "    layers.Conv2D(16, 3, padding='same', activation='relu'),\n",
    "    layers.MaxPooling2D(),\n",
    "    layers.Conv2D(32, 3, padding='same', activation='relu'),\n",
    "    layers.MaxPooling2D(),\n",
    "    layers.Conv2D(64, 3, padding='same', activation='relu'),\n",
    "    layers.MaxPooling2D(),\n",
    "    layers.Flatten(),\n",
    "    layers.Dense(128, activation='relu'),\n",
    "    layers.Dense(num_classes)\n",
    "])"
   ]
  },
  {
   "cell_type": "code",
   "execution_count": 8,
   "id": "b4e208f3",
   "metadata": {},
   "outputs": [],
   "source": [
    "# Compile model\n",
    "model.compile(optimizer='adam',\n",
    "              loss=tf.keras.losses.SparseCategoricalCrossentropy(from_logits=True),\n",
    "              metrics=['accuracy'])"
   ]
  },
  {
   "cell_type": "code",
   "execution_count": 9,
   "id": "c0763d0e",
   "metadata": {},
   "outputs": [
    {
     "name": "stdout",
     "output_type": "stream",
     "text": [
      "Epoch 1/10\n",
      "300/300 [==============================] - 143s 475ms/step - loss: 0.0644 - accuracy: 0.9774 - val_loss: 0.0120 - val_accuracy: 0.9958\n",
      "Epoch 2/10\n",
      "300/300 [==============================] - 137s 455ms/step - loss: 5.3679e-05 - accuracy: 1.0000 - val_loss: 1.6278e-05 - val_accuracy: 1.0000\n",
      "Epoch 3/10\n",
      "300/300 [==============================] - 139s 463ms/step - loss: 8.9092e-06 - accuracy: 1.0000 - val_loss: 8.8067e-06 - val_accuracy: 1.0000\n",
      "Epoch 4/10\n",
      "300/300 [==============================] - 140s 465ms/step - loss: 5.0774e-06 - accuracy: 1.0000 - val_loss: 5.3134e-06 - val_accuracy: 1.0000\n",
      "Epoch 5/10\n",
      "300/300 [==============================] - 141s 469ms/step - loss: 3.1859e-06 - accuracy: 1.0000 - val_loss: 3.5957e-06 - val_accuracy: 1.0000\n",
      "Epoch 6/10\n",
      "300/300 [==============================] - 128s 428ms/step - loss: 2.3250e-06 - accuracy: 1.0000 - val_loss: 4.1119e-06 - val_accuracy: 1.0000\n",
      "Epoch 7/10\n",
      "300/300 [==============================] - 132s 440ms/step - loss: 1.7277e-06 - accuracy: 1.0000 - val_loss: 2.4838e-06 - val_accuracy: 1.0000\n",
      "Epoch 8/10\n",
      "300/300 [==============================] - 131s 437ms/step - loss: 1.4938e-06 - accuracy: 1.0000 - val_loss: 1.5435e-06 - val_accuracy: 1.0000\n",
      "Epoch 9/10\n",
      "300/300 [==============================] - 134s 446ms/step - loss: 9.2536e-07 - accuracy: 1.0000 - val_loss: 1.2766e-06 - val_accuracy: 1.0000\n",
      "Epoch 10/10\n",
      "300/300 [==============================] - 128s 426ms/step - loss: 7.3503e-07 - accuracy: 1.0000 - val_loss: 1.2068e-06 - val_accuracy: 1.0000\n"
     ]
    }
   ],
   "source": [
    "# Train model\n",
    "history = model.fit(\n",
    "    train_ds,\n",
    "    validation_data=val_ds,\n",
    "    epochs=epochs\n",
    ")"
   ]
  },
  {
   "cell_type": "code",
   "execution_count": 10,
   "id": "d194eb5a",
   "metadata": {},
   "outputs": [
    {
     "name": "stdout",
     "output_type": "stream",
     "text": [
      "Epoch 1/10\n",
      "300/300 [==============================] - 144s 480ms/step - loss: 6.0825e-07 - accuracy: 1.0000 - val_loss: 8.3151e-07 - val_accuracy: 1.0000\n",
      "Epoch 2/10\n",
      "300/300 [==============================] - 149s 498ms/step - loss: 4.7846e-07 - accuracy: 1.0000 - val_loss: 7.7136e-07 - val_accuracy: 1.0000\n",
      "Epoch 3/10\n",
      "300/300 [==============================] - 146s 484ms/step - loss: 4.1345e-07 - accuracy: 1.0000 - val_loss: 8.5237e-07 - val_accuracy: 1.0000\n",
      "Epoch 4/10\n",
      "300/300 [==============================] - 145s 484ms/step - loss: 3.6479e-07 - accuracy: 1.0000 - val_loss: 5.1299e-07 - val_accuracy: 1.0000\n",
      "Epoch 5/10\n",
      "300/300 [==============================] - 146s 486ms/step - loss: 2.9302e-07 - accuracy: 1.0000 - val_loss: 4.1926e-07 - val_accuracy: 1.0000\n",
      "Epoch 6/10\n",
      "300/300 [==============================] - 153s 508ms/step - loss: 2.2570e-07 - accuracy: 1.0000 - val_loss: 3.6234e-07 - val_accuracy: 1.0000\n",
      "Epoch 7/10\n",
      "300/300 [==============================] - 147s 489ms/step - loss: 2.0152e-07 - accuracy: 1.0000 - val_loss: 3.0944e-07 - val_accuracy: 1.0000\n",
      "Epoch 8/10\n",
      "300/300 [==============================] - 140s 466ms/step - loss: 1.5657e-07 - accuracy: 1.0000 - val_loss: 2.7502e-07 - val_accuracy: 1.0000\n",
      "Epoch 9/10\n",
      "300/300 [==============================] - 138s 459ms/step - loss: 1.3413e-07 - accuracy: 1.0000 - val_loss: 2.3842e-07 - val_accuracy: 1.0000\n",
      "Epoch 10/10\n",
      "300/300 [==============================] - 143s 475ms/step - loss: 1.1638e-07 - accuracy: 1.0000 - val_loss: 2.2376e-07 - val_accuracy: 1.0000\n"
     ]
    }
   ],
   "source": [
    "# Train model\n",
    "history = model.fit(\n",
    "    train_ds,\n",
    "    validation_data=val_ds,\n",
    "    epochs=epochs\n",
    ")"
   ]
  },
  {
   "cell_type": "code",
   "execution_count": 12,
   "id": "1ade765d",
   "metadata": {},
   "outputs": [
    {
     "name": "stdout",
     "output_type": "stream",
     "text": [
      "13/13 [==============================] - 1s 76ms/step - loss: 3.7998e-07 - accuracy: 1.0000\n"
     ]
    }
   ],
   "source": [
    "# Evaluate model on test data\n",
    "test_loss, test_acc = model.evaluate(test_ds)"
   ]
  },
  {
   "cell_type": "code",
   "execution_count": 13,
   "id": "9a9531f8",
   "metadata": {},
   "outputs": [
    {
     "name": "stdout",
     "output_type": "stream",
     "text": [
      "Test accuracy: 1.0\n"
     ]
    }
   ],
   "source": [
    "print('Test accuracy:', test_acc)"
   ]
  },
  {
   "cell_type": "code",
   "execution_count": 20,
   "id": "d413ad18",
   "metadata": {},
   "outputs": [
    {
     "name": "stdout",
     "output_type": "stream",
     "text": [
      "C:\\Users\\Manish_Bhoge\\OneDrive - EPAM\\Tut\\IITG-TSW-AIML\\Course Assignments & Demo Projects\\ml-model-excercises\\Image_recognition\\Data_4class\\Data_4class\\inference\\3709.png\n",
      "WARNING:tensorflow:Model was constructed with shape (None, 180, 180, 3) for input KerasTensor(type_spec=TensorSpec(shape=(None, 180, 180, 3), dtype=tf.float32, name='rescaling_input'), name='rescaling_input', description=\"created by layer 'rescaling_input'\"), but it was called on an input with incompatible shape (None, 180, 180, 1).\n"
     ]
    },
    {
     "ename": "ValueError",
     "evalue": "in user code:\n\n    File \"C:\\Users\\Manish_Bhoge\\Anaconda3\\lib\\site-packages\\keras\\engine\\training.py\", line 2041, in predict_function  *\n        return step_function(self, iterator)\n    File \"C:\\Users\\Manish_Bhoge\\Anaconda3\\lib\\site-packages\\keras\\engine\\training.py\", line 2027, in step_function  **\n        outputs = model.distribute_strategy.run(run_step, args=(data,))\n    File \"C:\\Users\\Manish_Bhoge\\Anaconda3\\lib\\site-packages\\keras\\engine\\training.py\", line 2015, in run_step  **\n        outputs = model.predict_step(data)\n    File \"C:\\Users\\Manish_Bhoge\\Anaconda3\\lib\\site-packages\\keras\\engine\\training.py\", line 1983, in predict_step\n        return self(x, training=False)\n    File \"C:\\Users\\Manish_Bhoge\\Anaconda3\\lib\\site-packages\\keras\\utils\\traceback_utils.py\", line 70, in error_handler\n        raise e.with_traceback(filtered_tb) from None\n    File \"C:\\Users\\Manish_Bhoge\\Anaconda3\\lib\\site-packages\\keras\\engine\\input_spec.py\", line 277, in assert_input_compatibility\n        raise ValueError(\n\n    ValueError: Exception encountered when calling layer \"sequential\" \"                 f\"(type Sequential).\n    \n    Input 0 of layer \"conv2d\" is incompatible with the layer: expected axis -1 of input shape to have value 3, but received input with shape (None, 180, 180, 1)\n    \n    Call arguments received by layer \"sequential\" \"                 f\"(type Sequential):\n      • inputs=tf.Tensor(shape=(None, 180, 180, 1), dtype=float32)\n      • training=False\n      • mask=None\n",
     "output_type": "error",
     "traceback": [
      "\u001b[1;31m---------------------------------------------------------------------------\u001b[0m",
      "\u001b[1;31mValueError\u001b[0m                                Traceback (most recent call last)",
      "Input \u001b[1;32mIn [20]\u001b[0m, in \u001b[0;36m<cell line: 10>\u001b[1;34m()\u001b[0m\n\u001b[0;32m     16\u001b[0m image \u001b[38;5;241m=\u001b[39m image\u001b[38;5;241m.\u001b[39mastype(\u001b[38;5;124m'\u001b[39m\u001b[38;5;124mfloat32\u001b[39m\u001b[38;5;124m'\u001b[39m) \u001b[38;5;241m/\u001b[39m \u001b[38;5;241m255.0\u001b[39m\n\u001b[0;32m     17\u001b[0m img_array \u001b[38;5;241m=\u001b[39m tf\u001b[38;5;241m.\u001b[39mexpand_dims(img_array, \u001b[38;5;241m0\u001b[39m) \u001b[38;5;66;03m# Create a batch of size 1\u001b[39;00m\n\u001b[1;32m---> 18\u001b[0m prediction \u001b[38;5;241m=\u001b[39m \u001b[43mmodel\u001b[49m\u001b[38;5;241;43m.\u001b[39;49m\u001b[43mpredict\u001b[49m\u001b[43m(\u001b[49m\u001b[43mimage\u001b[49m\u001b[43m)\u001b[49m\n\u001b[0;32m     19\u001b[0m \u001b[38;5;28mprint\u001b[39m(prediction)\n",
      "File \u001b[1;32m~\\Anaconda3\\lib\\site-packages\\keras\\utils\\traceback_utils.py:70\u001b[0m, in \u001b[0;36mfilter_traceback.<locals>.error_handler\u001b[1;34m(*args, **kwargs)\u001b[0m\n\u001b[0;32m     67\u001b[0m     filtered_tb \u001b[38;5;241m=\u001b[39m _process_traceback_frames(e\u001b[38;5;241m.\u001b[39m__traceback__)\n\u001b[0;32m     68\u001b[0m     \u001b[38;5;66;03m# To get the full stack trace, call:\u001b[39;00m\n\u001b[0;32m     69\u001b[0m     \u001b[38;5;66;03m# `tf.debugging.disable_traceback_filtering()`\u001b[39;00m\n\u001b[1;32m---> 70\u001b[0m     \u001b[38;5;28;01mraise\u001b[39;00m e\u001b[38;5;241m.\u001b[39mwith_traceback(filtered_tb) \u001b[38;5;28;01mfrom\u001b[39;00m \u001b[38;5;28mNone\u001b[39m\n\u001b[0;32m     71\u001b[0m \u001b[38;5;28;01mfinally\u001b[39;00m:\n\u001b[0;32m     72\u001b[0m     \u001b[38;5;28;01mdel\u001b[39;00m filtered_tb\n",
      "File \u001b[1;32mC:\\Users\\MANISH~1\\AppData\\Local\\Temp\\__autograph_generated_fileazdf8jm8.py:15\u001b[0m, in \u001b[0;36mouter_factory.<locals>.inner_factory.<locals>.tf__predict_function\u001b[1;34m(iterator)\u001b[0m\n\u001b[0;32m     13\u001b[0m \u001b[38;5;28;01mtry\u001b[39;00m:\n\u001b[0;32m     14\u001b[0m     do_return \u001b[38;5;241m=\u001b[39m \u001b[38;5;28;01mTrue\u001b[39;00m\n\u001b[1;32m---> 15\u001b[0m     retval_ \u001b[38;5;241m=\u001b[39m ag__\u001b[38;5;241m.\u001b[39mconverted_call(ag__\u001b[38;5;241m.\u001b[39mld(step_function), (ag__\u001b[38;5;241m.\u001b[39mld(\u001b[38;5;28mself\u001b[39m), ag__\u001b[38;5;241m.\u001b[39mld(iterator)), \u001b[38;5;28;01mNone\u001b[39;00m, fscope)\n\u001b[0;32m     16\u001b[0m \u001b[38;5;28;01mexcept\u001b[39;00m:\n\u001b[0;32m     17\u001b[0m     do_return \u001b[38;5;241m=\u001b[39m \u001b[38;5;28;01mFalse\u001b[39;00m\n",
      "\u001b[1;31mValueError\u001b[0m: in user code:\n\n    File \"C:\\Users\\Manish_Bhoge\\Anaconda3\\lib\\site-packages\\keras\\engine\\training.py\", line 2041, in predict_function  *\n        return step_function(self, iterator)\n    File \"C:\\Users\\Manish_Bhoge\\Anaconda3\\lib\\site-packages\\keras\\engine\\training.py\", line 2027, in step_function  **\n        outputs = model.distribute_strategy.run(run_step, args=(data,))\n    File \"C:\\Users\\Manish_Bhoge\\Anaconda3\\lib\\site-packages\\keras\\engine\\training.py\", line 2015, in run_step  **\n        outputs = model.predict_step(data)\n    File \"C:\\Users\\Manish_Bhoge\\Anaconda3\\lib\\site-packages\\keras\\engine\\training.py\", line 1983, in predict_step\n        return self(x, training=False)\n    File \"C:\\Users\\Manish_Bhoge\\Anaconda3\\lib\\site-packages\\keras\\utils\\traceback_utils.py\", line 70, in error_handler\n        raise e.with_traceback(filtered_tb) from None\n    File \"C:\\Users\\Manish_Bhoge\\Anaconda3\\lib\\site-packages\\keras\\engine\\input_spec.py\", line 277, in assert_input_compatibility\n        raise ValueError(\n\n    ValueError: Exception encountered when calling layer \"sequential\" \"                 f\"(type Sequential).\n    \n    Input 0 of layer \"conv2d\" is incompatible with the layer: expected axis -1 of input shape to have value 3, but received input with shape (None, 180, 180, 1)\n    \n    Call arguments received by layer \"sequential\" \"                 f\"(type Sequential):\n      • inputs=tf.Tensor(shape=(None, 180, 180, 1), dtype=float32)\n      • training=False\n      • mask=None\n"
     ]
    }
   ],
   "source": [
    "# Use the model to predict the images in the validation set\n",
    "import os\n",
    "from PIL import Image\n",
    "\n",
    "cwd = os.getcwd()\n",
    "# Define the path to the image file\n",
    "# img_path = os.path.join(cwd, val_dir, \"natural-scenery.png\")\n",
    "val_dir = \"Data_4class\\\\Data_4class\\\\inference\"\n",
    "# val_dir = val_dir + '\\\\indoor'\n",
    "for filename in os.listdir(val_dir):\n",
    "    img_path = os.path.join(cwd, val_dir, filename)\n",
    "    print(img_path)\n",
    "    img = Image.open(img_path).resize((180, 180))\n",
    "    img_array = tf.keras.preprocessing.image.img_to_array(img)\n",
    "    image = img_array.reshape((1, img_array.shape[0], img_array.shape[1], img_array.shape[2]))\n",
    "    image = image.astype('float32') / 255.0\n",
    "    img_array = tf.expand_dims(img_array, 0) # Create a batch of size 1\n",
    "    prediction = model.predict(image)\n",
    "    print(prediction)\n",
    "    # predicted_label = 'outdoor' if prediction < 0.5 else 'indoor'\n",
    "    # print(f'{filename}: {prediction} {predicted_label}')"
   ]
  },
  {
   "cell_type": "code",
   "execution_count": null,
   "id": "b50560bd",
   "metadata": {},
   "outputs": [],
   "source": []
  }
 ],
 "metadata": {
  "kernelspec": {
   "display_name": "Python 3 (ipykernel)",
   "language": "python",
   "name": "python3"
  },
  "language_info": {
   "codemirror_mode": {
    "name": "ipython",
    "version": 3
   },
   "file_extension": ".py",
   "mimetype": "text/x-python",
   "name": "python",
   "nbconvert_exporter": "python",
   "pygments_lexer": "ipython3",
   "version": "3.9.12"
  }
 },
 "nbformat": 4,
 "nbformat_minor": 5
}
