{
 "cells": [
  {
   "cell_type": "code",
   "execution_count": 1,
   "id": "878de8e9",
   "metadata": {},
   "outputs": [],
   "source": [
    "import tensorflow as tf"
   ]
  },
  {
   "cell_type": "code",
   "execution_count": 2,
   "id": "61118ec1",
   "metadata": {},
   "outputs": [],
   "source": [
    "# Define the CNN model architecture\n",
    "model = tf.keras.Sequential([\n",
    "    # Input layer with 12 x 12 image\n",
    "    tf.keras.layers.InputLayer(input_shape=(12, 12, 1)),\n",
    "    \n",
    "    # Convolution layer with 3 x 3 filter and stride of 1 (no padding)\n",
    "    tf.keras.layers.Conv2D(filters=1, kernel_size=3, strides=1, padding='valid'),\n",
    "    \n",
    "    # Max Pooling layer with 2 x 2 filter and stride of 2 (no padding)\n",
    "    tf.keras.layers.MaxPooling2D(pool_size=2, strides=2, padding='valid'),\n",
    "    \n",
    "    # Flatten the output from the Pooling layer\n",
    "    tf.keras.layers.Flatten(),\n",
    "    \n",
    "    # Output layer with 4 units and ReLU activation function\n",
    "    tf.keras.layers.Dense(units=4, activation=tf.nn.relu)\n",
    "])"
   ]
  },
  {
   "cell_type": "code",
   "execution_count": 3,
   "id": "0261327b",
   "metadata": {},
   "outputs": [
    {
     "name": "stdout",
     "output_type": "stream",
     "text": [
      "Model: \"sequential\"\n",
      "_________________________________________________________________\n",
      " Layer (type)                Output Shape              Param #   \n",
      "=================================================================\n",
      " conv2d (Conv2D)             (None, 10, 10, 1)         10        \n",
      "                                                                 \n",
      " max_pooling2d (MaxPooling2D  (None, 5, 5, 1)          0         \n",
      " )                                                               \n",
      "                                                                 \n",
      " flatten (Flatten)           (None, 25)                0         \n",
      "                                                                 \n",
      " dense (Dense)               (None, 4)                 104       \n",
      "                                                                 \n",
      "=================================================================\n",
      "Total params: 114\n",
      "Trainable params: 114\n",
      "Non-trainable params: 0\n",
      "_________________________________________________________________\n"
     ]
    }
   ],
   "source": [
    "# Print the summary of the model\n",
    "model.summary()\n"
   ]
  },
  {
   "cell_type": "code",
   "execution_count": null,
   "id": "5c6da255",
   "metadata": {},
   "outputs": [],
   "source": []
  }
 ],
 "metadata": {
  "kernelspec": {
   "display_name": "Python 3 (ipykernel)",
   "language": "python",
   "name": "python3"
  },
  "language_info": {
   "codemirror_mode": {
    "name": "ipython",
    "version": 3
   },
   "file_extension": ".py",
   "mimetype": "text/x-python",
   "name": "python",
   "nbconvert_exporter": "python",
   "pygments_lexer": "ipython3",
   "version": "3.9.12"
  }
 },
 "nbformat": 4,
 "nbformat_minor": 5
}
