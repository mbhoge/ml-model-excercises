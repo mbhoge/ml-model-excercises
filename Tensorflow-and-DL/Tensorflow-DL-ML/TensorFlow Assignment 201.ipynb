{
 "cells": [
  {
   "cell_type": "code",
   "execution_count": 63,
   "id": "59965724",
   "metadata": {},
   "outputs": [
    {
     "name": "stdout",
     "output_type": "stream",
     "text": [
      "2.10.0\n"
     ]
    }
   ],
   "source": [
    "# Import Tensorflow\n",
    "\n",
    "import tensorflow as tf\n",
    "print(tf.__version__)"
   ]
  },
  {
   "cell_type": "code",
   "execution_count": 64,
   "id": "727805b2",
   "metadata": {},
   "outputs": [],
   "source": [
    "tf.compat.v1.disable_eager_execution()"
   ]
  },
  {
   "cell_type": "markdown",
   "id": "73b9d157",
   "metadata": {},
   "source": [
    "# Write a TensorFlow (TF1.x) program to implement the following mathematical function : \n",
    "\n",
    "##  Z= x3+y3+20x2y+30y2x+10"
   ]
  },
  {
   "cell_type": "markdown",
   "id": "c59a59b2",
   "metadata": {},
   "source": [
    "# Solve without using the Graph"
   ]
  },
  {
   "cell_type": "code",
   "execution_count": 65,
   "id": "4a63a959",
   "metadata": {},
   "outputs": [],
   "source": [
    "x = tf.compat.v1.placeholder(tf.int32, name='x')\n",
    "y = tf.compat.v1.placeholder(tf.int32, name='y')"
   ]
  },
  {
   "cell_type": "code",
   "execution_count": 66,
   "id": "1c621c54",
   "metadata": {},
   "outputs": [
    {
     "name": "stdout",
     "output_type": "stream",
     "text": [
      "169010\n",
      "1208841\n",
      "1981637065\n"
     ]
    }
   ],
   "source": [
    "with tf.compat.v1.Session() as sess:\n",
    "    a = tf.constant(20)\n",
    "    b = tf.constant(30)\n",
    "    c = tf.constant(10)\n",
    "    Z = x*x*x+y*y*y+a*x*x*y+b*y*y*x+c\n",
    "    # X= 10 , y=20\n",
    "    print(sess.run(Z, feed_dict={x: 10, y: 20}))\n",
    "    # X= 23 , y=34\n",
    "    print(sess.run(Z, feed_dict={x: 23, y: 34}))\n",
    "    # X= 252 , y=423\n",
    "    print(sess.run(Z, feed_dict={x: 252, y: 423}))"
   ]
  },
  {
   "cell_type": "markdown",
   "id": "22df7a70",
   "metadata": {},
   "source": [
    "# Solve the same equation using the Graph"
   ]
  },
  {
   "cell_type": "code",
   "execution_count": 62,
   "id": "be63fec7",
   "metadata": {},
   "outputs": [
    {
     "name": "stdout",
     "output_type": "stream",
     "text": [
      "169010\n",
      "1208841\n",
      "1981637065\n"
     ]
    }
   ],
   "source": [
    "# Define a Python function.\n",
    "def a_regular_function(x, y, a, b, c):\n",
    "    Z = x*x*x+y*y*y+a*x*x*y+b*y*y*x+c\n",
    "    return Z\n",
    "\n",
    "with tf.compat.v1.Session() as sess:\n",
    "    # `a_function_that_uses_a_graph` is a TensorFlow `Function`.\n",
    "    a_function_that_uses_a_graph = tf.function(a_regular_function)\n",
    "    # Make some tensors.\n",
    "    x = tf.compat.v1.placeholder(tf.int32, name='x')\n",
    "    y = tf.compat.v1.placeholder(tf.int32, name='y')\n",
    "    a = tf.constant(20)\n",
    "    b = tf.constant(30)\n",
    "    c = tf.constant(10)\n",
    " \n",
    "    # Call a `Function` like a Python function.\n",
    "    # X= 10 , y=20\n",
    "    tf_function_value = a_function_that_uses_a_graph(10, 20, a, b, c)\n",
    "    print(sess.run(tf_function_value))\n",
    "    # X= 23 , y=34\n",
    "    tf_function_value = a_function_that_uses_a_graph(23, 34, a, b, c)\n",
    "    print(sess.run(tf_function_value))\n",
    "    # X= 23 , y=34\n",
    "    tf_function_value = a_function_that_uses_a_graph(252, 423, a, b, c)\n",
    "    print(sess.run(tf_function_value))\n",
    "\n",
    " "
   ]
  },
  {
   "cell_type": "code",
   "execution_count": null,
   "id": "2852e40d",
   "metadata": {},
   "outputs": [],
   "source": []
  }
 ],
 "metadata": {
  "kernelspec": {
   "display_name": "Python 3 (ipykernel)",
   "language": "python",
   "name": "python3"
  },
  "language_info": {
   "codemirror_mode": {
    "name": "ipython",
    "version": 3
   },
   "file_extension": ".py",
   "mimetype": "text/x-python",
   "name": "python",
   "nbconvert_exporter": "python",
   "pygments_lexer": "ipython3",
   "version": "3.9.12"
  }
 },
 "nbformat": 4,
 "nbformat_minor": 5
}
